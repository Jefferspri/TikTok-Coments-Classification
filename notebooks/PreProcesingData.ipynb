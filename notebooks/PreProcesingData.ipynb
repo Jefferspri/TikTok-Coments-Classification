{
 "cells": [
  {
   "cell_type": "markdown",
   "id": "61a2bf59",
   "metadata": {},
   "source": [
    "### Cargar el archivo"
   ]
  },
  {
   "cell_type": "code",
   "execution_count": 1,
   "id": "308c4ce1",
   "metadata": {},
   "outputs": [
    {
     "name": "stderr",
     "output_type": "stream",
     "text": [
      "[nltk_data] Downloading package stopwords to\n",
      "[nltk_data]     C:\\Users\\Pc\\AppData\\Roaming\\nltk_data...\n",
      "[nltk_data]   Package stopwords is already up-to-date!\n",
      "[nltk_data] Downloading package punkt to\n",
      "[nltk_data]     C:\\Users\\Pc\\AppData\\Roaming\\nltk_data...\n",
      "[nltk_data]   Package punkt is already up-to-date!\n"
     ]
    }
   ],
   "source": [
    "import pandas as pd\n",
    "import numpy as np\n",
    "import re\n",
    "import matplotlib.pyplot as plt\n",
    "from sklearn.feature_extraction.text import TfidfVectorizer\n",
    "from sklearn.decomposition import TruncatedSVD \n",
    "import string\n",
    "import nltk\n",
    "from nltk.corpus import stopwords\n",
    "nltk.download('stopwords')\n",
    "nltk.download('punkt')\n",
    "stop_words_sp = set(stopwords.words('spanish'))"
   ]
  },
  {
   "cell_type": "code",
   "execution_count": null,
   "id": "956fc796",
   "metadata": {},
   "outputs": [],
   "source": [
    "# A la base de comentarios de Tiktok se le agrega:\n",
    "    # - Una lista de palabras positivos\n",
    "    # - Una lista de palabra negativas"
   ]
  },
  {
   "cell_type": "code",
   "execution_count": 52,
   "id": "b19931aa",
   "metadata": {},
   "outputs": [
    {
     "data": {
      "text/html": [
       "<div>\n",
       "<style scoped>\n",
       "    .dataframe tbody tr th:only-of-type {\n",
       "        vertical-align: middle;\n",
       "    }\n",
       "\n",
       "    .dataframe tbody tr th {\n",
       "        vertical-align: top;\n",
       "    }\n",
       "\n",
       "    .dataframe thead th {\n",
       "        text-align: right;\n",
       "    }\n",
       "</style>\n",
       "<table border=\"1\" class=\"dataframe\">\n",
       "  <thead>\n",
       "    <tr style=\"text-align: right;\">\n",
       "      <th></th>\n",
       "      <th>Unnamed: 0</th>\n",
       "      <th>name_video</th>\n",
       "      <th>date_video</th>\n",
       "      <th>date_comment</th>\n",
       "      <th>detail_comment</th>\n",
       "      <th>like_comment</th>\n",
       "      <th>positivo</th>\n",
       "      <th>negativo</th>\n",
       "      <th>neutro</th>\n",
       "      <th>sent</th>\n",
       "    </tr>\n",
       "  </thead>\n",
       "  <tbody>\n",
       "    <tr>\n",
       "      <th>0</th>\n",
       "      <td>1500.0</td>\n",
       "      <td>¡Ley aprobada para reducir el precio de los al...</td>\n",
       "      <td>2022-08-04 00:00:00</td>\n",
       "      <td>2022-08-04 00:00:00</td>\n",
       "      <td>Marícarmen Alva ,quienes han aportado en la ON...</td>\n",
       "      <td>1.0</td>\n",
       "      <td>0</td>\n",
       "      <td>0</td>\n",
       "      <td>1</td>\n",
       "      <td>neutro</td>\n",
       "    </tr>\n",
       "    <tr>\n",
       "      <th>1</th>\n",
       "      <td>1501.0</td>\n",
       "      <td>¡Ley aprobada para reducir el precio de los al...</td>\n",
       "      <td>2022-08-04 00:00:00</td>\n",
       "      <td>2013-04-01 00:00:00</td>\n",
       "      <td>Señora presidenta del congreso podrían hacer a...</td>\n",
       "      <td>0.0</td>\n",
       "      <td>0</td>\n",
       "      <td>0</td>\n",
       "      <td>1</td>\n",
       "      <td>neutro</td>\n",
       "    </tr>\n",
       "    <tr>\n",
       "      <th>2</th>\n",
       "      <td>1502.0</td>\n",
       "      <td>¡Ley aprobada para reducir el precio de los al...</td>\n",
       "      <td>2022-08-04 00:00:00</td>\n",
       "      <td>2022-12-04 00:00:00</td>\n",
       "      <td>86 %de desaprobación</td>\n",
       "      <td>0.0</td>\n",
       "      <td>0</td>\n",
       "      <td>1</td>\n",
       "      <td>0</td>\n",
       "      <td>negativo</td>\n",
       "    </tr>\n",
       "    <tr>\n",
       "      <th>3</th>\n",
       "      <td>1503.0</td>\n",
       "      <td>¡Ley aprobada para reducir el precio de los al...</td>\n",
       "      <td>2022-08-04 00:00:00</td>\n",
       "      <td>2022-11-04 00:00:00</td>\n",
       "      <td>recuerde que Dios todo poderoso la mira del ci...</td>\n",
       "      <td>0.0</td>\n",
       "      <td>0</td>\n",
       "      <td>0</td>\n",
       "      <td>1</td>\n",
       "      <td>neutro</td>\n",
       "    </tr>\n",
       "    <tr>\n",
       "      <th>4</th>\n",
       "      <td>1504.0</td>\n",
       "      <td>¡Ley aprobada para reducir el precio de los al...</td>\n",
       "      <td>2022-08-04 00:00:00</td>\n",
       "      <td>2022-11-04 00:00:00</td>\n",
       "      <td>que sus promesas se hagan realidad por el pueblo</td>\n",
       "      <td>0.0</td>\n",
       "      <td>0</td>\n",
       "      <td>0</td>\n",
       "      <td>1</td>\n",
       "      <td>neutro</td>\n",
       "    </tr>\n",
       "  </tbody>\n",
       "</table>\n",
       "</div>"
      ],
      "text/plain": [
       "   Unnamed: 0                                         name_video  \\\n",
       "0      1500.0  ¡Ley aprobada para reducir el precio de los al...   \n",
       "1      1501.0  ¡Ley aprobada para reducir el precio de los al...   \n",
       "2      1502.0  ¡Ley aprobada para reducir el precio de los al...   \n",
       "3      1503.0  ¡Ley aprobada para reducir el precio de los al...   \n",
       "4      1504.0  ¡Ley aprobada para reducir el precio de los al...   \n",
       "\n",
       "            date_video         date_comment  \\\n",
       "0  2022-08-04 00:00:00  2022-08-04 00:00:00   \n",
       "1  2022-08-04 00:00:00  2013-04-01 00:00:00   \n",
       "2  2022-08-04 00:00:00  2022-12-04 00:00:00   \n",
       "3  2022-08-04 00:00:00  2022-11-04 00:00:00   \n",
       "4  2022-08-04 00:00:00  2022-11-04 00:00:00   \n",
       "\n",
       "                                      detail_comment  like_comment  positivo  \\\n",
       "0  Marícarmen Alva ,quienes han aportado en la ON...           1.0         0   \n",
       "1  Señora presidenta del congreso podrían hacer a...           0.0         0   \n",
       "2                               86 %de desaprobación           0.0         0   \n",
       "3  recuerde que Dios todo poderoso la mira del ci...           0.0         0   \n",
       "4   que sus promesas se hagan realidad por el pueblo           0.0         0   \n",
       "\n",
       "   negativo  neutro      sent  \n",
       "0         0       1    neutro  \n",
       "1         0       1    neutro  \n",
       "2         1       0  negativo  \n",
       "3         0       1    neutro  \n",
       "4         0       1    neutro  "
      ]
     },
     "execution_count": 52,
     "metadata": {},
     "output_type": "execute_result"
    }
   ],
   "source": [
    "df = pd.read_excel('Tiktok-Prueba2.xlsx')\n",
    "df.head()"
   ]
  },
  {
   "cell_type": "code",
   "execution_count": 53,
   "id": "9889f20b",
   "metadata": {},
   "outputs": [
    {
     "data": {
      "text/plain": [
       "negativo    1200\n",
       "neutro       637\n",
       "positivo     362\n",
       "Name: sent, dtype: int64"
      ]
     },
     "execution_count": 53,
     "metadata": {},
     "output_type": "execute_result"
    }
   ],
   "source": [
    "df.sent.value_counts()"
   ]
  },
  {
   "cell_type": "markdown",
   "id": "3458cfa7",
   "metadata": {},
   "source": [
    "### Limpieza del texto (puntuación, tokenización y eliminado de stopwords en español)"
   ]
  },
  {
   "cell_type": "code",
   "execution_count": 54,
   "id": "5a91e778",
   "metadata": {},
   "outputs": [
    {
     "data": {
      "text/plain": [
       "'\\nstemmer = SnowballStemmer(\"spanish\")\\ndef clean_text(text):\\n    text = \"\".join([word.lower() for word in text if word not in string.punctuation])\\n    tokens = re.split(\\'\\\\W+\\', text)\\n    text = [word for word in tokens if word not in stop_words_sp]\\n    #stemi = [stemmer.stem(token) for token in text]\\n    complete = \" \".join(text)\\n    return complete\\n'"
      ]
     },
     "execution_count": 54,
     "metadata": {},
     "output_type": "execute_result"
    }
   ],
   "source": [
    "from nltk.stem import SnowballStemmer\n",
    "stm = SnowballStemmer('spanish') \n",
    "def clean_text(text):\n",
    "    text = \"\".join([word.lower() for word in text if word not in string.punctuation])\n",
    "    tokens = re.split('\\W+', text)\n",
    "    text = [word for word in tokens if word not in stop_words_sp]\n",
    "    stemi = [stm.stem(token) for token in text]\n",
    "    return stemi\n",
    "\n",
    "\"\"\"\n",
    "stemmer = SnowballStemmer(\"spanish\")\n",
    "def clean_text(text):\n",
    "    text = \"\".join([word.lower() for word in text if word not in string.punctuation])\n",
    "    tokens = re.split('\\W+', text)\n",
    "    text = [word for word in tokens if word not in stop_words_sp]\n",
    "    #stemi = [stemmer.stem(token) for token in text]\n",
    "    complete = \" \".join(text)\n",
    "    return complete\n",
    "\"\"\""
   ]
  },
  {
   "cell_type": "markdown",
   "id": "7fc32d7f",
   "metadata": {},
   "source": [
    "### Matriz Documento-Término (DTM) con puntuaciones TF-IDF"
   ]
  },
  {
   "cell_type": "code",
   "execution_count": 55,
   "id": "6ac92024",
   "metadata": {},
   "outputs": [],
   "source": [
    "tfidf_vect = TfidfVectorizer(analyzer=clean_text)\n",
    "X_tfidf = tfidf_vect.fit_transform(df['detail_comment'])"
   ]
  },
  {
   "cell_type": "code",
   "execution_count": 56,
   "id": "bad96cbb",
   "metadata": {},
   "outputs": [
    {
     "name": "stderr",
     "output_type": "stream",
     "text": [
      "C:\\Program Files (x86)\\ANACONDA\\lib\\site-packages\\sklearn\\utils\\deprecation.py:87: FutureWarning: Function get_feature_names is deprecated; get_feature_names is deprecated in 1.0 and will be removed in 1.2. Please use get_feature_names_out instead.\n",
      "  warnings.warn(msg, category=FutureWarning)\n"
     ]
    },
    {
     "data": {
      "text/html": [
       "<div>\n",
       "<style scoped>\n",
       "    .dataframe tbody tr th:only-of-type {\n",
       "        vertical-align: middle;\n",
       "    }\n",
       "\n",
       "    .dataframe tbody tr th {\n",
       "        vertical-align: top;\n",
       "    }\n",
       "\n",
       "    .dataframe thead th {\n",
       "        text-align: right;\n",
       "    }\n",
       "</style>\n",
       "<table border=\"1\" class=\"dataframe\">\n",
       "  <thead>\n",
       "    <tr style=\"text-align: right;\">\n",
       "      <th></th>\n",
       "      <th></th>\n",
       "      <th>04</th>\n",
       "      <th>1</th>\n",
       "      <th>10</th>\n",
       "      <th>100</th>\n",
       "      <th>101</th>\n",
       "      <th>112</th>\n",
       "      <th>115</th>\n",
       "      <th>12</th>\n",
       "      <th>130</th>\n",
       "      <th>...</th>\n",
       "      <th>zopenc</th>\n",
       "      <th>çierr</th>\n",
       "      <th>ñiñ</th>\n",
       "      <th>ďia</th>\n",
       "      <th>𝚌𝚒𝚎𝚛𝚛𝚎</th>\n",
       "      <th>𝚌𝚘𝚗𝚐𝚛𝚎𝚜𝚘</th>\n",
       "      <th>𝚌𝚘𝚗𝚜𝚝𝚒𝚝𝚞𝚌𝚒o𝚗</th>\n",
       "      <th>𝚍𝚎𝚕</th>\n",
       "      <th>𝚗𝚞𝚎𝚟𝚊</th>\n",
       "      <th>𝚢</th>\n",
       "    </tr>\n",
       "  </thead>\n",
       "  <tbody>\n",
       "    <tr>\n",
       "      <th>0</th>\n",
       "      <td>0.0</td>\n",
       "      <td>0.0</td>\n",
       "      <td>0.0</td>\n",
       "      <td>0.0</td>\n",
       "      <td>0.0</td>\n",
       "      <td>0.0</td>\n",
       "      <td>0.0</td>\n",
       "      <td>0.0</td>\n",
       "      <td>0.0</td>\n",
       "      <td>0.0</td>\n",
       "      <td>...</td>\n",
       "      <td>0.0</td>\n",
       "      <td>0.0</td>\n",
       "      <td>0.0</td>\n",
       "      <td>0.0</td>\n",
       "      <td>0.0</td>\n",
       "      <td>0.0</td>\n",
       "      <td>0.0</td>\n",
       "      <td>0.0</td>\n",
       "      <td>0.0</td>\n",
       "      <td>0.0</td>\n",
       "    </tr>\n",
       "    <tr>\n",
       "      <th>1</th>\n",
       "      <td>0.0</td>\n",
       "      <td>0.0</td>\n",
       "      <td>0.0</td>\n",
       "      <td>0.0</td>\n",
       "      <td>0.0</td>\n",
       "      <td>0.0</td>\n",
       "      <td>0.0</td>\n",
       "      <td>0.0</td>\n",
       "      <td>0.0</td>\n",
       "      <td>0.0</td>\n",
       "      <td>...</td>\n",
       "      <td>0.0</td>\n",
       "      <td>0.0</td>\n",
       "      <td>0.0</td>\n",
       "      <td>0.0</td>\n",
       "      <td>0.0</td>\n",
       "      <td>0.0</td>\n",
       "      <td>0.0</td>\n",
       "      <td>0.0</td>\n",
       "      <td>0.0</td>\n",
       "      <td>0.0</td>\n",
       "    </tr>\n",
       "    <tr>\n",
       "      <th>2</th>\n",
       "      <td>0.0</td>\n",
       "      <td>0.0</td>\n",
       "      <td>0.0</td>\n",
       "      <td>0.0</td>\n",
       "      <td>0.0</td>\n",
       "      <td>0.0</td>\n",
       "      <td>0.0</td>\n",
       "      <td>0.0</td>\n",
       "      <td>0.0</td>\n",
       "      <td>0.0</td>\n",
       "      <td>...</td>\n",
       "      <td>0.0</td>\n",
       "      <td>0.0</td>\n",
       "      <td>0.0</td>\n",
       "      <td>0.0</td>\n",
       "      <td>0.0</td>\n",
       "      <td>0.0</td>\n",
       "      <td>0.0</td>\n",
       "      <td>0.0</td>\n",
       "      <td>0.0</td>\n",
       "      <td>0.0</td>\n",
       "    </tr>\n",
       "    <tr>\n",
       "      <th>3</th>\n",
       "      <td>0.0</td>\n",
       "      <td>0.0</td>\n",
       "      <td>0.0</td>\n",
       "      <td>0.0</td>\n",
       "      <td>0.0</td>\n",
       "      <td>0.0</td>\n",
       "      <td>0.0</td>\n",
       "      <td>0.0</td>\n",
       "      <td>0.0</td>\n",
       "      <td>0.0</td>\n",
       "      <td>...</td>\n",
       "      <td>0.0</td>\n",
       "      <td>0.0</td>\n",
       "      <td>0.0</td>\n",
       "      <td>0.0</td>\n",
       "      <td>0.0</td>\n",
       "      <td>0.0</td>\n",
       "      <td>0.0</td>\n",
       "      <td>0.0</td>\n",
       "      <td>0.0</td>\n",
       "      <td>0.0</td>\n",
       "    </tr>\n",
       "    <tr>\n",
       "      <th>4</th>\n",
       "      <td>0.0</td>\n",
       "      <td>0.0</td>\n",
       "      <td>0.0</td>\n",
       "      <td>0.0</td>\n",
       "      <td>0.0</td>\n",
       "      <td>0.0</td>\n",
       "      <td>0.0</td>\n",
       "      <td>0.0</td>\n",
       "      <td>0.0</td>\n",
       "      <td>0.0</td>\n",
       "      <td>...</td>\n",
       "      <td>0.0</td>\n",
       "      <td>0.0</td>\n",
       "      <td>0.0</td>\n",
       "      <td>0.0</td>\n",
       "      <td>0.0</td>\n",
       "      <td>0.0</td>\n",
       "      <td>0.0</td>\n",
       "      <td>0.0</td>\n",
       "      <td>0.0</td>\n",
       "      <td>0.0</td>\n",
       "    </tr>\n",
       "  </tbody>\n",
       "</table>\n",
       "<p>5 rows × 2522 columns</p>\n",
       "</div>"
      ],
      "text/plain": [
       "         04    1   10  100  101  112  115   12  130  ...  zopenc  çierr  ñiñ  \\\n",
       "0  0.0  0.0  0.0  0.0  0.0  0.0  0.0  0.0  0.0  0.0  ...     0.0    0.0  0.0   \n",
       "1  0.0  0.0  0.0  0.0  0.0  0.0  0.0  0.0  0.0  0.0  ...     0.0    0.0  0.0   \n",
       "2  0.0  0.0  0.0  0.0  0.0  0.0  0.0  0.0  0.0  0.0  ...     0.0    0.0  0.0   \n",
       "3  0.0  0.0  0.0  0.0  0.0  0.0  0.0  0.0  0.0  0.0  ...     0.0    0.0  0.0   \n",
       "4  0.0  0.0  0.0  0.0  0.0  0.0  0.0  0.0  0.0  0.0  ...     0.0    0.0  0.0   \n",
       "\n",
       "   ďia  𝚌𝚒𝚎𝚛𝚛𝚎  𝚌𝚘𝚗𝚐𝚛𝚎𝚜𝚘  𝚌𝚘𝚗𝚜𝚝𝚒𝚝𝚞𝚌𝚒o𝚗  𝚍𝚎𝚕  𝚗𝚞𝚎𝚟𝚊    𝚢  \n",
       "0  0.0     0.0       0.0           0.0  0.0    0.0  0.0  \n",
       "1  0.0     0.0       0.0           0.0  0.0    0.0  0.0  \n",
       "2  0.0     0.0       0.0           0.0  0.0    0.0  0.0  \n",
       "3  0.0     0.0       0.0           0.0  0.0    0.0  0.0  \n",
       "4  0.0     0.0       0.0           0.0  0.0    0.0  0.0  \n",
       "\n",
       "[5 rows x 2522 columns]"
      ]
     },
     "execution_count": 56,
     "metadata": {},
     "output_type": "execute_result"
    }
   ],
   "source": [
    "X_features = pd.DataFrame(X_tfidf.toarray(), columns=tfidf_vect.get_feature_names())\n",
    "X_features.head()"
   ]
  },
  {
   "cell_type": "code",
   "execution_count": 57,
   "id": "18855833",
   "metadata": {},
   "outputs": [
    {
     "name": "stdout",
     "output_type": "stream",
     "text": [
      "<class 'pandas.core.frame.DataFrame'>\n",
      "RangeIndex: 2199 entries, 0 to 2198\n",
      "Columns: 2522 entries,  to 𝚢\n",
      "dtypes: float64(2522)\n",
      "memory usage: 42.3 MB\n"
     ]
    }
   ],
   "source": [
    "X_features.info()"
   ]
  },
  {
   "cell_type": "markdown",
   "id": "3ebf352b",
   "metadata": {},
   "source": [
    "### Removemos las columnas de términos redundantes y los que son poco frecuentes"
   ]
  },
  {
   "cell_type": "code",
   "execution_count": 67,
   "id": "94de546b",
   "metadata": {},
   "outputs": [
    {
     "data": {
      "text/html": [
       "<div>\n",
       "<style scoped>\n",
       "    .dataframe tbody tr th:only-of-type {\n",
       "        vertical-align: middle;\n",
       "    }\n",
       "\n",
       "    .dataframe tbody tr th {\n",
       "        vertical-align: top;\n",
       "    }\n",
       "\n",
       "    .dataframe thead th {\n",
       "        text-align: right;\n",
       "    }\n",
       "</style>\n",
       "<table border=\"1\" class=\"dataframe\">\n",
       "  <thead>\n",
       "    <tr style=\"text-align: right;\">\n",
       "      <th></th>\n",
       "      <th>0</th>\n",
       "    </tr>\n",
       "  </thead>\n",
       "  <tbody>\n",
       "    <tr>\n",
       "      <th>04</th>\n",
       "      <td>0.571170</td>\n",
       "    </tr>\n",
       "    <tr>\n",
       "      <th>1</th>\n",
       "      <td>0.575815</td>\n",
       "    </tr>\n",
       "    <tr>\n",
       "      <th>10</th>\n",
       "      <td>0.979539</td>\n",
       "    </tr>\n",
       "    <tr>\n",
       "      <th>100</th>\n",
       "      <td>0.577945</td>\n",
       "    </tr>\n",
       "    <tr>\n",
       "      <th>101</th>\n",
       "      <td>0.625018</td>\n",
       "    </tr>\n",
       "  </tbody>\n",
       "</table>\n",
       "</div>"
      ],
      "text/plain": [
       "            0\n",
       "04   0.571170\n",
       "1    0.575815\n",
       "10   0.979539\n",
       "100  0.577945\n",
       "101  0.625018"
      ]
     },
     "execution_count": 67,
     "metadata": {},
     "output_type": "execute_result"
    }
   ],
   "source": [
    "column = pd.DataFrame(X_features.sum())\n",
    "column.head()"
   ]
  },
  {
   "cell_type": "code",
   "execution_count": 59,
   "id": "10aef305",
   "metadata": {},
   "outputs": [],
   "source": [
    "X_features.drop(columns=['','27','28'], inplace=True)"
   ]
  },
  {
   "cell_type": "code",
   "execution_count": 60,
   "id": "cf71278a",
   "metadata": {},
   "outputs": [],
   "source": [
    "X_features.drop(columns=['4','5'], inplace=True)"
   ]
  },
  {
   "cell_type": "code",
   "execution_count": 69,
   "id": "7727319a",
   "metadata": {},
   "outputs": [],
   "source": [
    "stop = list(column[column[0]<3].index)"
   ]
  },
  {
   "cell_type": "code",
   "execution_count": 70,
   "id": "a97ed5b0",
   "metadata": {},
   "outputs": [
    {
     "data": {
      "text/plain": [
       "2237"
      ]
     },
     "execution_count": 70,
     "metadata": {},
     "output_type": "execute_result"
    }
   ],
   "source": [
    "len(stop)"
   ]
  },
  {
   "cell_type": "code",
   "execution_count": 71,
   "id": "dbefcf65",
   "metadata": {},
   "outputs": [],
   "source": [
    "X_features.drop(columns=stop, inplace=True)"
   ]
  },
  {
   "cell_type": "code",
   "execution_count": 72,
   "id": "7b8f9ffc",
   "metadata": {},
   "outputs": [
    {
     "name": "stdout",
     "output_type": "stream",
     "text": [
      "<class 'pandas.core.frame.DataFrame'>\n",
      "RangeIndex: 2199 entries, 0 to 2198\n",
      "Columns: 280 entries, abuelit to ya\n",
      "dtypes: float64(280)\n",
      "memory usage: 4.7 MB\n"
     ]
    }
   ],
   "source": [
    "X_features.info()"
   ]
  },
  {
   "cell_type": "code",
   "execution_count": 73,
   "id": "ea891869",
   "metadata": {},
   "outputs": [
    {
     "data": {
      "text/html": [
       "<div>\n",
       "<style scoped>\n",
       "    .dataframe tbody tr th:only-of-type {\n",
       "        vertical-align: middle;\n",
       "    }\n",
       "\n",
       "    .dataframe tbody tr th {\n",
       "        vertical-align: top;\n",
       "    }\n",
       "\n",
       "    .dataframe thead th {\n",
       "        text-align: right;\n",
       "    }\n",
       "</style>\n",
       "<table border=\"1\" class=\"dataframe\">\n",
       "  <thead>\n",
       "    <tr style=\"text-align: right;\">\n",
       "      <th></th>\n",
       "      <th>abuelit</th>\n",
       "      <th>accion</th>\n",
       "      <th>adel</th>\n",
       "      <th>adelant</th>\n",
       "      <th>ahi</th>\n",
       "      <th>ahor</th>\n",
       "      <th>ala</th>\n",
       "      <th>alva</th>\n",
       "      <th>amig</th>\n",
       "      <th>anticuch</th>\n",
       "      <th>...</th>\n",
       "      <th>verd</th>\n",
       "      <th>verdader</th>\n",
       "      <th>vez</th>\n",
       "      <th>vide</th>\n",
       "      <th>visit</th>\n",
       "      <th>viv</th>\n",
       "      <th>vividor</th>\n",
       "      <th>vot</th>\n",
       "      <th>x</th>\n",
       "      <th>ya</th>\n",
       "    </tr>\n",
       "  </thead>\n",
       "  <tbody>\n",
       "    <tr>\n",
       "      <th>0</th>\n",
       "      <td>0.0</td>\n",
       "      <td>0.0</td>\n",
       "      <td>0.0</td>\n",
       "      <td>0.0</td>\n",
       "      <td>0.0</td>\n",
       "      <td>0.0</td>\n",
       "      <td>0.0</td>\n",
       "      <td>0.209172</td>\n",
       "      <td>0.0</td>\n",
       "      <td>0.0</td>\n",
       "      <td>...</td>\n",
       "      <td>0.0</td>\n",
       "      <td>0.0</td>\n",
       "      <td>0.0</td>\n",
       "      <td>0.0</td>\n",
       "      <td>0.0</td>\n",
       "      <td>0.0</td>\n",
       "      <td>0.0</td>\n",
       "      <td>0.0</td>\n",
       "      <td>0.0</td>\n",
       "      <td>0.0</td>\n",
       "    </tr>\n",
       "    <tr>\n",
       "      <th>1</th>\n",
       "      <td>0.0</td>\n",
       "      <td>0.0</td>\n",
       "      <td>0.0</td>\n",
       "      <td>0.0</td>\n",
       "      <td>0.0</td>\n",
       "      <td>0.0</td>\n",
       "      <td>0.0</td>\n",
       "      <td>0.000000</td>\n",
       "      <td>0.0</td>\n",
       "      <td>0.0</td>\n",
       "      <td>...</td>\n",
       "      <td>0.0</td>\n",
       "      <td>0.0</td>\n",
       "      <td>0.0</td>\n",
       "      <td>0.0</td>\n",
       "      <td>0.0</td>\n",
       "      <td>0.0</td>\n",
       "      <td>0.0</td>\n",
       "      <td>0.0</td>\n",
       "      <td>0.0</td>\n",
       "      <td>0.0</td>\n",
       "    </tr>\n",
       "    <tr>\n",
       "      <th>2</th>\n",
       "      <td>0.0</td>\n",
       "      <td>0.0</td>\n",
       "      <td>0.0</td>\n",
       "      <td>0.0</td>\n",
       "      <td>0.0</td>\n",
       "      <td>0.0</td>\n",
       "      <td>0.0</td>\n",
       "      <td>0.000000</td>\n",
       "      <td>0.0</td>\n",
       "      <td>0.0</td>\n",
       "      <td>...</td>\n",
       "      <td>0.0</td>\n",
       "      <td>0.0</td>\n",
       "      <td>0.0</td>\n",
       "      <td>0.0</td>\n",
       "      <td>0.0</td>\n",
       "      <td>0.0</td>\n",
       "      <td>0.0</td>\n",
       "      <td>0.0</td>\n",
       "      <td>0.0</td>\n",
       "      <td>0.0</td>\n",
       "    </tr>\n",
       "    <tr>\n",
       "      <th>3</th>\n",
       "      <td>0.0</td>\n",
       "      <td>0.0</td>\n",
       "      <td>0.0</td>\n",
       "      <td>0.0</td>\n",
       "      <td>0.0</td>\n",
       "      <td>0.0</td>\n",
       "      <td>0.0</td>\n",
       "      <td>0.000000</td>\n",
       "      <td>0.0</td>\n",
       "      <td>0.0</td>\n",
       "      <td>...</td>\n",
       "      <td>0.0</td>\n",
       "      <td>0.0</td>\n",
       "      <td>0.0</td>\n",
       "      <td>0.0</td>\n",
       "      <td>0.0</td>\n",
       "      <td>0.0</td>\n",
       "      <td>0.0</td>\n",
       "      <td>0.0</td>\n",
       "      <td>0.0</td>\n",
       "      <td>0.0</td>\n",
       "    </tr>\n",
       "    <tr>\n",
       "      <th>4</th>\n",
       "      <td>0.0</td>\n",
       "      <td>0.0</td>\n",
       "      <td>0.0</td>\n",
       "      <td>0.0</td>\n",
       "      <td>0.0</td>\n",
       "      <td>0.0</td>\n",
       "      <td>0.0</td>\n",
       "      <td>0.000000</td>\n",
       "      <td>0.0</td>\n",
       "      <td>0.0</td>\n",
       "      <td>...</td>\n",
       "      <td>0.0</td>\n",
       "      <td>0.0</td>\n",
       "      <td>0.0</td>\n",
       "      <td>0.0</td>\n",
       "      <td>0.0</td>\n",
       "      <td>0.0</td>\n",
       "      <td>0.0</td>\n",
       "      <td>0.0</td>\n",
       "      <td>0.0</td>\n",
       "      <td>0.0</td>\n",
       "    </tr>\n",
       "  </tbody>\n",
       "</table>\n",
       "<p>5 rows × 280 columns</p>\n",
       "</div>"
      ],
      "text/plain": [
       "   abuelit  accion  adel  adelant  ahi  ahor  ala      alva  amig  anticuch  \\\n",
       "0      0.0     0.0   0.0      0.0  0.0   0.0  0.0  0.209172   0.0       0.0   \n",
       "1      0.0     0.0   0.0      0.0  0.0   0.0  0.0  0.000000   0.0       0.0   \n",
       "2      0.0     0.0   0.0      0.0  0.0   0.0  0.0  0.000000   0.0       0.0   \n",
       "3      0.0     0.0   0.0      0.0  0.0   0.0  0.0  0.000000   0.0       0.0   \n",
       "4      0.0     0.0   0.0      0.0  0.0   0.0  0.0  0.000000   0.0       0.0   \n",
       "\n",
       "   ...  verd  verdader  vez  vide  visit  viv  vividor  vot    x   ya  \n",
       "0  ...   0.0       0.0  0.0   0.0    0.0  0.0      0.0  0.0  0.0  0.0  \n",
       "1  ...   0.0       0.0  0.0   0.0    0.0  0.0      0.0  0.0  0.0  0.0  \n",
       "2  ...   0.0       0.0  0.0   0.0    0.0  0.0      0.0  0.0  0.0  0.0  \n",
       "3  ...   0.0       0.0  0.0   0.0    0.0  0.0      0.0  0.0  0.0  0.0  \n",
       "4  ...   0.0       0.0  0.0   0.0    0.0  0.0      0.0  0.0  0.0  0.0  \n",
       "\n",
       "[5 rows x 280 columns]"
      ]
     },
     "execution_count": 73,
     "metadata": {},
     "output_type": "execute_result"
    }
   ],
   "source": [
    "X_features.head()"
   ]
  },
  {
   "cell_type": "code",
   "execution_count": 74,
   "id": "fde90544",
   "metadata": {},
   "outputs": [
    {
     "name": "stdout",
     "output_type": "stream",
     "text": [
      "['abuelit', 'accion', 'adel', 'adelant', 'ahi', 'ahor', 'ala', 'alva', 'amig', 'anticuch', 'apoy', 'armad', 'asamble', 'asi', 'audi', 'años', 'bast', 'belaund', 'bendicion', 'bien', 'blind', 'bocon', 'bot', 'buen', 'burr', 'busc', 'caer', 'caeras', 'call', 'calla', 'cambi', 'cans', 'car', 'caraj', 'carm', 'cas', 'castill', 'cerr', 'charlat', 'chiabr', 'chist', 'cierr', 'ciert', 'clar', 'com', 'compr', 'comun', 'congres', 'constitu', 'constitucion', 'constituyent', 'corrupcion', 'corrupt', 'cos', 'cre', 'crisis', 'cuant', 'cuent', 'cuestion', 'culp', 'culpabl', 'da', 'dañ', 'deb', 'dec', 'defend', 'defiend', 'dej', 'democraci', 'derech', 'derrot', 'desaprob', 'desesper', 'despues', 'dia', 'dic', 'dich', 'dig', 'dij', 'dios', 'dirigent', 'disolv', 'eh', 'ejecut', 'eleccion', 'empres', 'engañ', 'entrar', 'escuch', 'esper', 'exact', 'excelent', 'falt', 'famili', 'favor', 'felic', 'felicit', 'feliz', 'fuerz', 'fujimori', 'futur', 'gan', 'general', 'gent', 'glori', 'gobiern', 'golp', 'golpist', 'graci', 'gral', 'gran', 'grand', 'gust', 'habl', 'hac', 'hag', 'herman', 'hermos', 'histori', 'hiz', 'hol', 'honor', 'hor', 'hoy', 'igual', 'incapaz', 'inept', 'interes', 'ir', 'jaj', 'jajaj', 'jajajaj', 'jud', 'junt', 'k', 'keik', 'lacr', 'lady', 'larg', 'largat', 'larges', 'ley', 'lleg', 'llev', 'luch', 'm', 'mafi', 'mal', 'man', 'mand', 'mar', 'march', 'maricarm', 'mas', 'mañan', 'mejor', 'mentir', 'merin', 'mermeler', 'mes', 'mir', 'miser', 'mism', 'monopoli', 'montesin', 'much', 'muert', 'muj', 'mur', 'nadi', 'necesit', 'ningun', 'niñ', 'nuev', 'nunc', 'ocios', 'ojal', 'padr', 'pag', 'pais', 'palabr', 'palaci', 'par', 'part', 'pas', 'patri', 'pedr', 'peor', 'person', 'peru', 'peruan', 'pid', 'plat', 'pobr', 'pod', 'poder', 'podr', 'polit', 'pon', 'popul', 'postul', 'preci', 'prens', 'pres', 'present', 'president', 'pront', 'proxim', 'proyect', 'prueb', 'puebl', 'pued', 'pur', 'q', 'qued', 'quer', 'quier', 'rat', 'renunci', 'represent', 'respet', 'rob', 'robert', 'sab', 'sac', 'sal', 'salg', 'salud', 'sangr', 'sant', 'saqu', 'segu', 'sender', 'ser', 'señor', 'show', 'si', 'siempr', 'sierr', 'sig', 'sirv', 'sol', 'solucion', 'sr', 'sra', 'sueld', 'terruc', 'tia', 'tiemp', 'titer', 'tod', 'total', 'trabaj', 'traicion', 'ud', 'uds', 'unic', 'urgent', 'usted', 'va', 'vac', 'vacanci', 'valient', 'vam', 'van', 'vas', 'vay', 've', 'vend', 'ver', 'verd', 'verdader', 'vez', 'vide', 'visit', 'viv', 'vividor', 'vot', 'x', 'ya']\n"
     ]
    }
   ],
   "source": [
    "print([i for i in X_features.columns])"
   ]
  },
  {
   "cell_type": "markdown",
   "id": "764bdb5b",
   "metadata": {},
   "source": [
    "#### Aplicamos la descomposición SVD para poder trabajar con menos variables (30)"
   ]
  },
  {
   "cell_type": "code",
   "execution_count": 75,
   "id": "ef403888",
   "metadata": {},
   "outputs": [
    {
     "data": {
      "text/plain": [
       "array([[ 8.36564064e-03, -6.49089591e-04,  9.83051681e-03,\n",
       "         2.90576408e-03, -4.65335408e-03,  4.23811937e-03,\n",
       "         4.77413392e-03,  8.17491777e-03,  7.01268037e-03,\n",
       "         1.89133134e-03,  4.23605527e-03,  7.63001713e-03,\n",
       "         8.35204574e-03, -7.80227901e-03,  8.98994029e-03,\n",
       "        -2.92951206e-04, -1.00201359e-02, -6.85759424e-04,\n",
       "        -1.63613366e-02, -4.33490238e-03,  1.22232381e-03,\n",
       "        -7.05612251e-03,  3.10736147e-03,  6.93039855e-03,\n",
       "         5.49499282e-03, -1.41178094e-02,  7.13224819e-02,\n",
       "         1.72127214e-02,  1.11635888e-02, -1.60273099e-02],\n",
       "       [ 1.74261153e-01, -6.47989979e-02,  1.53448383e-01,\n",
       "        -4.08924795e-02, -1.52432773e-02, -2.11638041e-02,\n",
       "         1.17517215e-02,  4.99703329e-02,  6.32000242e-02,\n",
       "        -1.30602180e-02, -2.80509235e-02, -7.33464276e-03,\n",
       "        -4.55999968e-02,  5.18854322e-03, -4.65865961e-02,\n",
       "         3.23215751e-02, -3.86418410e-02, -4.52495982e-02,\n",
       "         2.09384609e-02,  2.22901867e-03, -1.30005152e-02,\n",
       "        -2.79491607e-02,  1.41983141e-04,  2.29487010e-03,\n",
       "         7.04769202e-02,  3.01026538e-02,  4.66909157e-02,\n",
       "         2.34111278e-03, -7.03811735e-03,  5.36521988e-02],\n",
       "       [ 9.48006402e-03,  2.41974765e-02, -1.88727508e-03,\n",
       "         3.80038670e-02, -9.78289289e-03, -2.36791555e-02,\n",
       "        -5.96574246e-03,  3.99049708e-03,  1.03849730e-02,\n",
       "        -3.91033214e-04, -2.33303562e-02, -4.63535286e-03,\n",
       "        -2.50895702e-03,  1.49313768e-02, -2.62131431e-03,\n",
       "        -5.62245993e-03,  1.88951979e-02, -2.13525030e-02,\n",
       "        -1.30107989e-03, -4.90630916e-02,  5.21181247e-02,\n",
       "        -2.47257631e-02,  4.58530920e-03,  2.01604376e-02,\n",
       "        -8.98752960e-02,  3.87104603e-02,  7.60902919e-02,\n",
       "        -4.75923000e-02,  9.99395909e-02,  1.62519961e-01],\n",
       "       [ 4.57954403e-03,  9.26061015e-04,  6.90150997e-03,\n",
       "        -8.37140447e-05, -2.35435331e-03,  3.82411458e-03,\n",
       "         2.01678535e-03,  7.53324745e-03,  5.24968172e-03,\n",
       "         1.68572052e-03, -7.08846007e-03,  9.45348000e-03,\n",
       "        -1.27337362e-03, -9.34444140e-03,  5.92470136e-05,\n",
       "         2.24137937e-03,  6.40911235e-05, -1.64966548e-02,\n",
       "        -4.29957417e-03,  6.95855379e-04, -3.04389368e-03,\n",
       "        -5.34195887e-03, -1.28831941e-03,  2.32584886e-03,\n",
       "        -6.37484930e-03, -2.01434795e-03,  2.48505369e-03,\n",
       "        -2.12543595e-03, -4.89955136e-03,  7.34612951e-04],\n",
       "       [ 2.54792053e-02, -2.04950070e-03,  2.53746423e-02,\n",
       "         4.33581134e-03, -1.67615948e-02,  3.75933563e-02,\n",
       "         1.05707677e-02,  4.34103184e-02,  3.66826752e-02,\n",
       "         9.41865468e-03, -3.48209891e-02,  2.76645254e-02,\n",
       "        -3.20970605e-02, -4.45403425e-02, -8.33025599e-03,\n",
       "         2.68187491e-02, -9.02298915e-03, -9.01312154e-02,\n",
       "         3.91673920e-02,  1.26918416e-03, -3.39292981e-02,\n",
       "        -5.20164695e-02, -2.63410131e-02, -1.11188210e-02,\n",
       "        -2.53378446e-03,  6.57728707e-04,  8.01221086e-02,\n",
       "        -7.94825456e-02, -9.86952737e-02, -6.79714089e-02],\n",
       "       [ 4.92995752e-03,  1.89783809e-03,  5.60417752e-03,\n",
       "         9.51274439e-03, -8.39603608e-03,  6.46941057e-03,\n",
       "         3.27924224e-03,  8.71626764e-03,  4.09196739e-03,\n",
       "         1.03378018e-02,  9.97668958e-03,  1.18567732e-02,\n",
       "        -1.04327502e-02, -2.14154590e-02, -1.15278488e-02,\n",
       "         5.70066485e-03,  4.15235687e-02, -2.01170898e-02,\n",
       "         6.44602192e-03, -3.64789991e-02, -1.97854122e-02,\n",
       "        -5.80518828e-03, -4.68526763e-03, -1.38239440e-02,\n",
       "         1.93984639e-02,  2.90576556e-02, -1.61995592e-02,\n",
       "         2.99376373e-02, -3.09637115e-02,  4.51459593e-03],\n",
       "       [ 1.14722180e-01,  3.01185395e-01,  1.09752753e-02,\n",
       "        -9.49746273e-02,  1.42871670e-02,  1.61721578e-02,\n",
       "        -6.31187891e-03,  2.84339109e-02,  1.24815337e-02,\n",
       "         3.64475228e-03, -1.86814453e-02,  2.86642580e-02,\n",
       "        -5.64069259e-03, -2.72661246e-02,  3.32257077e-03,\n",
       "         1.54998871e-02, -1.00782243e-02, -4.82835502e-02,\n",
       "         1.82775048e-02, -1.51763844e-02, -2.41314299e-02,\n",
       "        -1.50894017e-02, -3.75656258e-03, -1.45092414e-03,\n",
       "         8.05289435e-02,  3.48469773e-02, -2.36636874e-02,\n",
       "         5.32073163e-03,  1.08823930e-02,  1.70789336e-02],\n",
       "       [ 1.10910947e-03, -1.68601583e-04,  3.26689666e-03,\n",
       "         1.33717234e-04, -1.15752418e-03,  1.23611127e-03,\n",
       "         1.88476928e-04,  6.16099573e-03,  5.25689584e-03,\n",
       "         5.79725107e-04, -6.65715124e-03,  8.32356477e-03,\n",
       "        -2.15886582e-03, -1.26799409e-02, -4.30620345e-03,\n",
       "         1.90756153e-02, -3.31693726e-03,  3.39856085e-03,\n",
       "         3.56206635e-03,  5.09667086e-03, -2.71086150e-03,\n",
       "         1.48983746e-02,  5.73583252e-04,  2.33299370e-04,\n",
       "        -6.82971203e-03,  2.47000590e-02, -5.60687932e-03,\n",
       "         6.18150161e-03, -5.92368392e-04,  6.24158054e-03],\n",
       "       [ 6.95724015e-02, -7.78012409e-03,  1.10731270e-01,\n",
       "         2.43777299e-02, -2.19116426e-02,  6.94334361e-02,\n",
       "         2.98715519e-03,  1.86997544e-01,  1.31067212e-01,\n",
       "         5.30641942e-02, -1.68010778e-01,  2.37419473e-01,\n",
       "        -4.87773550e-02, -3.23853539e-01, -6.13474838e-02,\n",
       "         4.19046538e-01, -2.76534647e-02,  6.38066800e-01,\n",
       "        -1.11157559e-01, -1.03889540e-01,  3.05009986e-02,\n",
       "         1.10811790e-01,  2.26684245e-02,  8.66277820e-03,\n",
       "        -5.42784925e-02,  1.64837802e-02, -4.48901291e-02,\n",
       "         2.65118054e-02,  6.61157541e-02, -2.86347653e-02],\n",
       "       [ 2.32896189e-02,  1.53068029e-02,  3.45891102e-02,\n",
       "         4.57452947e-03, -1.19094676e-02,  2.20805749e-02,\n",
       "         2.90543766e-03,  6.27967947e-02,  1.69697238e-02,\n",
       "         1.05498615e-02, -6.49146356e-02,  5.83909417e-02,\n",
       "         4.61142086e-02, -3.22915213e-02, -2.81331146e-02,\n",
       "         2.74121590e-02,  3.41279276e-02, -1.44357771e-01,\n",
       "         5.13347872e-02, -3.67470325e-02, -6.15166463e-02,\n",
       "        -9.36271880e-02,  1.15189051e-01,  2.92105188e-01,\n",
       "         5.27486559e-02, -2.24057966e-01, -1.32437776e-01,\n",
       "         1.76409466e-01,  2.88499231e-01, -1.23204786e-01]])"
      ]
     },
     "execution_count": 75,
     "metadata": {},
     "output_type": "execute_result"
    }
   ],
   "source": [
    "truncatedSVD=TruncatedSVD(30)\n",
    "X_svd = truncatedSVD.fit_transform(X_features)\n",
    "X_svd[:10] "
   ]
  },
  {
   "cell_type": "code",
   "execution_count": 76,
   "id": "ce04001b",
   "metadata": {},
   "outputs": [
    {
     "data": {
      "text/plain": [
       "2199"
      ]
     },
     "execution_count": 76,
     "metadata": {},
     "output_type": "execute_result"
    }
   ],
   "source": [
    "len(X_svd)"
   ]
  },
  {
   "cell_type": "markdown",
   "id": "84ea5bfa",
   "metadata": {},
   "source": [
    "#### Creamos un Clasificador de Comentarios utilizando RandomForest"
   ]
  },
  {
   "cell_type": "code",
   "execution_count": 78,
   "id": "ac52c980",
   "metadata": {},
   "outputs": [],
   "source": [
    "from sklearn.ensemble import RandomForestClassifier\n",
    "from sklearn.metrics import confusion_matrix, accuracy_score, precision_score, recall_score\n",
    "from sklearn.model_selection import train_test_split"
   ]
  },
  {
   "cell_type": "markdown",
   "id": "a7f8748c",
   "metadata": {},
   "source": [
    "Particionamos las muestras"
   ]
  },
  {
   "cell_type": "code",
   "execution_count": 79,
   "id": "67de683c",
   "metadata": {},
   "outputs": [],
   "source": [
    "X_train, X_test, y_train, y_test = train_test_split(X_svd,\n",
    "                                                    df['sent'],\n",
    "                                                    test_size=0.2)"
   ]
  },
  {
   "cell_type": "code",
   "execution_count": 80,
   "id": "6fdf95fb",
   "metadata": {},
   "outputs": [
    {
     "name": "stdout",
     "output_type": "stream",
     "text": [
      "339       neutro\n",
      "247     negativo\n",
      "1279    negativo\n",
      "535     negativo\n",
      "302     positivo\n",
      "15      negativo\n",
      "922       neutro\n",
      "2085    negativo\n",
      "1722      neutro\n",
      "424       neutro\n",
      "Name: sent, dtype: object\n"
     ]
    }
   ],
   "source": [
    "#print(X_train[:10])\n",
    "\n",
    "print(y_train[:10])"
   ]
  },
  {
   "cell_type": "markdown",
   "id": "9d8e2cba",
   "metadata": {},
   "source": [
    "Entrenamos el modelo y generamos las predicciones sobre la muestra de evaluación"
   ]
  },
  {
   "cell_type": "code",
   "execution_count": 90,
   "id": "39278fd0",
   "metadata": {},
   "outputs": [],
   "source": [
    "rf = RandomForestClassifier()\n",
    "rf_model = rf.fit(X_train, y_train)\n",
    "y_pred = rf_model.predict(X_test)"
   ]
  },
  {
   "cell_type": "markdown",
   "id": "19b03edd",
   "metadata": {},
   "source": [
    "#### Métricas de Diagnóstico"
   ]
  },
  {
   "cell_type": "code",
   "execution_count": 91,
   "id": "bf76b1bb",
   "metadata": {},
   "outputs": [
    {
     "name": "stdout",
     "output_type": "stream",
     "text": [
      "Matriz de Confusión:\n"
     ]
    },
    {
     "data": {
      "text/plain": [
       "array([[206,  40,  15],\n",
       "       [ 73,  30,  12],\n",
       "       [ 22,   7,  35]], dtype=int64)"
      ]
     },
     "execution_count": 91,
     "metadata": {},
     "output_type": "execute_result"
    }
   ],
   "source": [
    "print('Matriz de Confusión:')\n",
    "confusion_matrix(y_test, y_pred)"
   ]
  },
  {
   "cell_type": "code",
   "execution_count": 92,
   "id": "55bfe61e",
   "metadata": {},
   "outputs": [
    {
     "name": "stdout",
     "output_type": "stream",
     "text": [
      "Accuracy: 61.59%\n",
      "Precision: 58.99%\n",
      "Recall: 61.59%\n"
     ]
    }
   ],
   "source": [
    "print('Accuracy: %.2f%%' %(accuracy_score(y_test, y_pred)*100))  \n",
    "print('Precision: %.2f%%' % (precision_score(y_test, y_pred, average= 'weighted')*100))\n",
    "print('Recall: %.2f%%' % (recall_score(y_test, y_pred, average= 'weighted')*100))"
   ]
  },
  {
   "cell_type": "markdown",
   "id": "8f947e3f",
   "metadata": {},
   "source": [
    "### LSTM\n",
    "https://www.nbshare.io/notebook/249468051/How-To-Code-RNN-and-LSTM-Neural-Networks-in-Python/"
   ]
  },
  {
   "cell_type": "code",
   "execution_count": 42,
   "id": "1b338c82",
   "metadata": {},
   "outputs": [
    {
     "data": {
      "text/plain": [
       "'2.9.1'"
      ]
     },
     "execution_count": 42,
     "metadata": {},
     "output_type": "execute_result"
    }
   ],
   "source": [
    "import matplotlib.pyplot as plt\n",
    "import numpy as np\n",
    "import pandas as pd\n",
    "import tensorflow as tf\n",
    "from tensorflow import keras\n",
    "from tensorflow.keras import layers\n",
    "\n",
    "tf.__version__"
   ]
  },
  {
   "cell_type": "code",
   "execution_count": 43,
   "id": "a3434d43",
   "metadata": {},
   "outputs": [],
   "source": [
    "X_train, X_test, y_train, y_test = train_test_split(X_svd,\n",
    "                                                    df[['positivo','negativo','neutro']],\n",
    "                                                    test_size=0.2)"
   ]
  },
  {
   "cell_type": "code",
   "execution_count": 98,
   "id": "177ed22f",
   "metadata": {},
   "outputs": [],
   "source": [
    "model = tf.keras.Sequential([\n",
    "    #encoder, # the encoder\n",
    "    tf.keras.layers.Embedding(\n",
    "        input_dim=30,\n",
    "        output_dim=1,\n",
    "        # Use masking to handle the variable sequence lengths\n",
    "        mask_zero=True),\n",
    "    tf.keras.layers.Bidirectional(layers.LSTM(64)), # making LSTM bidirectional\n",
    "    tf.keras.layers.Dense(32, activation='relu'), # FC layer for the classification part\n",
    "    tf.keras.layers.Dense(1) # final FC layer\n",
    "\n",
    "])"
   ]
  },
  {
   "cell_type": "code",
   "execution_count": 48,
   "id": "6decd2ce",
   "metadata": {},
   "outputs": [],
   "source": [
    "model = tf.keras.Sequential([ tf.keras.layers.Embedding(input_dim=30, output_dim=3)])\n",
    "model.add(tf.keras.layers.Bidirectional(layers.LSTM(64))) \n",
    "model.add(tf.keras.layers.Dense(32, activation='relu')) \n",
    "model.add(tf.keras.layers.Dense(32, activation='relu')) \n",
    "model.add(tf.keras.layers.Dense(32, activation='relu')) \n",
    "model.add(tf.keras.layers.Dense(16, activation='relu'))\n",
    "model.add(tf.keras.layers.Dense(8, activation='relu')) \n",
    "model.add(tf.keras.layers.Dense(3, activation='softmax')) "
   ]
  },
  {
   "cell_type": "code",
   "execution_count": 49,
   "id": "99d3d552",
   "metadata": {},
   "outputs": [],
   "source": [
    "model.compile(\n",
    "    loss=tf.keras.losses.BinaryCrossentropy(from_logits=True),\n",
    "    # adam optimizer is more efficient (not always the most accurate though)\n",
    "    optimizer=tf.keras.optimizers.Adam(1e-4),\n",
    "    metrics=['accuracy']\n",
    ")"
   ]
  },
  {
   "cell_type": "code",
   "execution_count": 50,
   "id": "f9475256",
   "metadata": {},
   "outputs": [
    {
     "name": "stdout",
     "output_type": "stream",
     "text": [
      "Model: \"sequential_1\"\n",
      "_________________________________________________________________\n",
      " Layer (type)                Output Shape              Param #   \n",
      "=================================================================\n",
      " embedding_1 (Embedding)     (None, None, 3)           90        \n",
      "                                                                 \n",
      " bidirectional_1 (Bidirectio  (None, 128)              34816     \n",
      " nal)                                                            \n",
      "                                                                 \n",
      " dense_2 (Dense)             (None, 32)                4128      \n",
      "                                                                 \n",
      " dense_3 (Dense)             (None, 32)                1056      \n",
      "                                                                 \n",
      " dense_4 (Dense)             (None, 32)                1056      \n",
      "                                                                 \n",
      " dense_5 (Dense)             (None, 16)                528       \n",
      "                                                                 \n",
      " dense_6 (Dense)             (None, 8)                 136       \n",
      "                                                                 \n",
      " dense_7 (Dense)             (None, 3)                 27        \n",
      "                                                                 \n",
      "=================================================================\n",
      "Total params: 41,837\n",
      "Trainable params: 41,837\n",
      "Non-trainable params: 0\n",
      "_________________________________________________________________\n"
     ]
    }
   ],
   "source": [
    "model.summary()"
   ]
  },
  {
   "cell_type": "code",
   "execution_count": 51,
   "id": "205fa904",
   "metadata": {},
   "outputs": [
    {
     "name": "stdout",
     "output_type": "stream",
     "text": [
      "Epoch 1/20\n"
     ]
    },
    {
     "name": "stderr",
     "output_type": "stream",
     "text": [
      "C:\\Program Files (x86)\\ANACONDA\\lib\\site-packages\\tensorflow\\python\\util\\dispatch.py:1082: UserWarning: \"`binary_crossentropy` received `from_logits=True`, but the `output` argument was produced by a sigmoid or softmax activation and thus does not represent logits. Was this intended?\"\n",
      "  return dispatch_target(*args, **kwargs)\n"
     ]
    },
    {
     "name": "stdout",
     "output_type": "stream",
     "text": [
      "55/55 [==============================] - 4s 15ms/step - loss: 0.6898 - accuracy: 0.5458\n",
      "Epoch 2/20\n",
      "55/55 [==============================] - 1s 17ms/step - loss: 0.6740 - accuracy: 0.5458\n",
      "Epoch 3/20\n",
      "55/55 [==============================] - 1s 15ms/step - loss: 0.6430 - accuracy: 0.5458\n",
      "Epoch 4/20\n",
      "55/55 [==============================] - 1s 16ms/step - loss: 0.6304 - accuracy: 0.5458\n",
      "Epoch 5/20\n",
      "55/55 [==============================] - 1s 15ms/step - loss: 0.6195 - accuracy: 0.5458\n",
      "Epoch 6/20\n",
      "55/55 [==============================] - 1s 15ms/step - loss: 0.6090 - accuracy: 0.5458\n",
      "Epoch 7/20\n",
      "55/55 [==============================] - 1s 15ms/step - loss: 0.5987 - accuracy: 0.5458\n",
      "Epoch 8/20\n",
      "55/55 [==============================] - 1s 15ms/step - loss: 0.5892 - accuracy: 0.5458\n",
      "Epoch 9/20\n",
      "55/55 [==============================] - 1s 15ms/step - loss: 0.5841 - accuracy: 0.5458\n",
      "Epoch 10/20\n",
      "55/55 [==============================] - 1s 15ms/step - loss: 0.5830 - accuracy: 0.5458\n",
      "Epoch 11/20\n",
      "55/55 [==============================] - 1s 16ms/step - loss: 0.5812 - accuracy: 0.5458\n",
      "Epoch 12/20\n",
      "55/55 [==============================] - 1s 16ms/step - loss: 0.5807 - accuracy: 0.5458\n",
      "Epoch 13/20\n",
      "55/55 [==============================] - 1s 16ms/step - loss: 0.5803 - accuracy: 0.5458\n",
      "Epoch 14/20\n",
      "55/55 [==============================] - 1s 17ms/step - loss: 0.5800 - accuracy: 0.5458\n",
      "Epoch 15/20\n",
      "55/55 [==============================] - 1s 16ms/step - loss: 0.5804 - accuracy: 0.5458\n",
      "Epoch 16/20\n",
      "55/55 [==============================] - 1s 16ms/step - loss: 0.5805 - accuracy: 0.5458\n",
      "Epoch 17/20\n",
      "55/55 [==============================] - 1s 16ms/step - loss: 0.5804 - accuracy: 0.5458\n",
      "Epoch 18/20\n",
      "55/55 [==============================] - 1s 19ms/step - loss: 0.5803 - accuracy: 0.5458\n",
      "Epoch 19/20\n",
      "55/55 [==============================] - 1s 20ms/step - loss: 0.5803 - accuracy: 0.5458\n",
      "Epoch 20/20\n",
      "55/55 [==============================] - 1s 17ms/step - loss: 0.5800 - accuracy: 0.5458\n"
     ]
    },
    {
     "data": {
      "text/plain": [
       "<keras.callbacks.History at 0x173c9db7988>"
      ]
     },
     "execution_count": 51,
     "metadata": {},
     "output_type": "execute_result"
    }
   ],
   "source": [
    "model.fit(X_train, y_train, epochs=20) "
   ]
  },
  {
   "cell_type": "code",
   "execution_count": 121,
   "id": "879301e2",
   "metadata": {},
   "outputs": [],
   "source": []
  }
 ],
 "metadata": {
  "kernelspec": {
   "display_name": "Python 3",
   "language": "python",
   "name": "python3"
  },
  "language_info": {
   "codemirror_mode": {
    "name": "ipython",
    "version": 3
   },
   "file_extension": ".py",
   "mimetype": "text/x-python",
   "name": "python",
   "nbconvert_exporter": "python",
   "pygments_lexer": "ipython3",
   "version": "3.7.13"
  }
 },
 "nbformat": 4,
 "nbformat_minor": 5
}
